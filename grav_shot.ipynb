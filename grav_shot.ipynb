{
 "cells": [
  {
   "cell_type": "code",
   "execution_count": 1,
   "metadata": {
    "ExecuteTime": {
     "end_time": "2022-03-03T21:32:06.375667Z",
     "start_time": "2022-03-03T21:32:05.444695Z"
    },
    "execution": {
     "iopub.execute_input": "2022-03-03T19:14:58.159522Z",
     "iopub.status.busy": "2022-03-03T19:14:58.158879Z",
     "iopub.status.idle": "2022-03-03T19:14:59.249524Z",
     "shell.execute_reply": "2022-03-03T19:14:59.249241Z",
     "shell.execute_reply.started": "2022-03-03T19:14:58.159313Z"
    },
    "tags": []
   },
   "outputs": [],
   "source": [
    "%matplotlib notebook\n",
    "%load_ext autoreload\n",
    "%autoreload 2\n",
    "import numpy as np\n",
    "import matplotlib.pyplot as plt\n",
    "from matplotlib.patches import Rectangle, Circle\n",
    "from p24asolver import P24ASolver"
   ]
  },
  {
   "cell_type": "code",
   "execution_count": 2,
   "metadata": {},
   "outputs": [],
   "source": [
    "#events\n",
    "def sat_radius(t, Y, *args):\n",
    "    x1 = Y[0]\n",
    "    x2= Y[2]\n",
    "    return np.sqrt(x1**2+x2**2)"
   ]
  },
  {
   "cell_type": "code",
   "execution_count": 39,
   "metadata": {
    "ExecuteTime": {
     "end_time": "2022-03-03T21:33:38.961659Z",
     "start_time": "2022-03-03T21:33:38.941167Z"
    },
    "execution": {
     "iopub.execute_input": "2022-03-03T19:15:27.541910Z",
     "iopub.status.busy": "2022-03-03T19:15:27.541607Z",
     "iopub.status.idle": "2022-03-03T19:15:27.574922Z",
     "shell.execute_reply": "2022-03-03T19:15:27.574549Z",
     "shell.execute_reply.started": "2022-03-03T19:15:27.541887Z"
    },
    "tags": []
   },
   "outputs": [],
   "source": [
    "class Planets(P24ASolver):\n",
    "    \"\"\"\n",
    "    Simulate a satelite swinging around jupiter\n",
    "    \"\"\"\n",
    "\n",
    "    def __init__(self, **kwargs):\n",
    "        \"\"\"\n",
    "        I'm going to use Python's keyword argument mechanism to handle the parameters.\n",
    "\n",
    "        The kwargs parameter is a dictionary of all the named parameters and their values. We can use\n",
    "        the built-in 'get' method to store parameter values, which allows us to provide default values\n",
    "        in cases where no value was given.\n",
    "\n",
    "        Note that we need to call the __init__ method of P24ASolver with a list of\n",
    "        variable names. The first string in each variable tuple is the variable name, which you can use to\n",
    "        refer to the variable, the second is a LaTeX representation that will look nice on a plot.\n",
    "        \"\"\"\n",
    "        super().__init__(\n",
    "            (('x1', '$x_1$'), ('v1', r'$\\dot{x}_1$'),\n",
    "             ('x2', '$x_2$'), ('v2', r'$\\dot{x}_2$'))\n",
    "        )\n",
    "        # Now store variables, using defaults, if necessary\n",
    "        self.JUPR = kwargs.get('JUPR', 1)\n",
    "        self.JUPW = kwargs.get('JUPW', 1)\n",
    "        self.JUPM = kwargs.get('JUPM', 1)\n",
    "        self.SUNM = kwargs.get('SUNM', 1)\n",
    "        self.G = 10000\n",
    "        self.SATM = kwargs.get('SATM', 1)\n",
    "        self.t_off = kwargs.get('t_off',0)\n",
    "#         self.events.append(radius)\n",
    "        \n",
    "        \n",
    "\n",
    "    def derivatives(self, t, Y):\n",
    "        x1, v1, x2, v2 = Y  # unpack the values\n",
    "        xj1, xj2 = self.jup_coords(t) #jup pos\n",
    "        \n",
    "        #################### for position of sat#####################\n",
    "        \n",
    "        \n",
    "        ####getting squared radii from sun and jup respectively#####\n",
    "        R_sun_sq = x1**2+x2**2\n",
    "        R_jup_sq = (x1-xj1)**2 + (x2-xj2)**2\n",
    "        #####################################################\n",
    "        \n",
    "        ######getting force due to sun and jup respectively##       \n",
    "        F_sun_mag = (self.G*self.SUNM*self.SATM)/R_sun_sq\n",
    "        F_sun = (F_sun_mag)*np.array([-x1,-x2])\n",
    "        \n",
    "        F_jup_mag = (self.G*self.JUPM*self.SATM)/R_jup_sq\n",
    "        F_jup = (F_jup_mag)*np.array([xj1-x1,xj2-x2])  \n",
    "        ###################################################### \n",
    "        \n",
    "        ###############summing those up ##############\n",
    "        F_tot = F_sun + F_jup\n",
    "        \n",
    "        F1, F2 = F_tot\n",
    "        \n",
    "        a1 = F1/self.SATM\n",
    "        \n",
    "        a2 = F2/self.SATM\n",
    "\n",
    "        return [v1, a1, v2, a2]\n",
    "\n",
    "    def orbit(self, R, w, t):\n",
    "        \"\"\"\n",
    "        input: R is the average radius of the planet, t is the time passed, w is the angular speed of the planet\n",
    "        output: returns the position of the planet at time t given \n",
    "        \"\"\"\n",
    "        return (R*np.math.cos(w*t), R*np.math.sin(w*t))\n",
    "    \n",
    "    def jup_coords(self,t):\n",
    "        return self.orbit(self.JUPR,self.JUPW,t+self.t_off)\n",
    "\n",
    "    "
   ]
  },
  {
   "cell_type": "code",
   "execution_count": 40,
   "metadata": {
    "ExecuteTime": {
     "end_time": "2022-03-03T21:33:44.687606Z",
     "start_time": "2022-03-03T21:33:44.485691Z"
    }
   },
   "outputs": [],
   "source": [
    "rest = (1,0,1,0)\n",
    "sol1 = Planets(JUPR = 5.2, JUPW = 2*np.pi/12, JUPM = .000955, SUNM = 1, SATM = 2.2268*10**(-31), t_off = 1).solve(rest, (0,.2))"
   ]
  },
  {
   "cell_type": "code",
   "execution_count": null,
   "metadata": {},
   "outputs": [],
   "source": [
    "def closest_approach(v1,v2,ap_dist):\n",
    "    \"\"\"\n",
    "    v1 and v2 are the velocities at launch, ap_dist is the distance you want between jupiter and the satellite\n",
    "    \n",
    "    returns t_off to initialize a solar system where the sat and jup get ap_dist apart or gives you the closest occurance if the ap_dist can't be found\n",
    "    \"\"\"\n",
    "    current_t_off = 0\n",
    "    min_dist = (100000000, 0)\n",
    "    while current_t_off <= 12:\n",
    "        times = np.linspace(0,.2,100)\n",
    "        sol1 = Planets(JUPR = 5.2, JUPW = 2*np.pi/12, JUPM = .000955, SUNM = 1, SATM = 2.2268*10**(-31), t_off = current_t_off).solve(rest, (0,.2))\n",
    "        for t in times:\n",
    "            x1 = sol1(t)[0]\n",
    "            x2 = sol1(t)[1]\n",
    "            \n",
    "            xj1 = sol1.jup_coords(t)[0]\n",
    "            xj2 = sol1.jup_coords(t)[1]\n",
    "            \n",
    "            dist = np.math.sqrt((x1-xj1)**2+(x2-xj2)**2)\n",
    "            if dist <= ap_dist:\n",
    "                return (dist, current_t_off,t)\n",
    "            \n",
    "            if (dist,0) < min_dist:\n",
    "                min_dist = (dist,current_t_off, t)\n",
    "        current_t_off += .01\n",
    "    return min_dist\n",
    "\n",
    "closest_approach(60,0,0.00233444264)"
   ]
  },
  {
   "cell_type": "code",
   "execution_count": null,
   "metadata": {},
   "outputs": [],
   "source": [
    "sol1 = Planets(JUPR = 5.2, JUPW = 2*np.pi/12, JUPM = .000955, SUNM = 1, SATM = 2.2268*10**(-31), t_off = .29).solve(rest, (0,.2))\n",
    "\n",
    "sol1(0.05858585858585859)\n",
    "\n",
    "sol1.jup_coords(0.05858585858585859)"
   ]
  }
 ],
 "metadata": {
  "kernelspec": {
   "display_name": "Python 3",
   "language": "python",
   "name": "python3"
  },
  "language_info": {
   "codemirror_mode": {
    "name": "ipython",
    "version": 3
   },
   "file_extension": ".py",
   "mimetype": "text/x-python",
   "name": "python",
   "nbconvert_exporter": "python",
   "pygments_lexer": "ipython3",
   "version": "3.8.8"
  },
  "toc": {
   "base_numbering": 1,
   "nav_menu": {},
   "number_sections": true,
   "sideBar": true,
   "skip_h1_title": false,
   "title_cell": "Table of Contents",
   "title_sidebar": "Contents",
   "toc_cell": false,
   "toc_position": {},
   "toc_section_display": true,
   "toc_window_display": false
  }
 },
 "nbformat": 4,
 "nbformat_minor": 4
}
