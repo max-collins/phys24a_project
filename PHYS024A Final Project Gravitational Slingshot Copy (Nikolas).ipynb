{
 "cells": [
  {
   "cell_type": "code",
   "execution_count": 1,
   "metadata": {},
   "outputs": [],
   "source": [
    "#Now let's import some functionality to help visualizing images, etc...\n",
    "\n",
    "from IPython.display import Image\n",
    "from IPython.core.display import HTML"
   ]
  },
  {
   "cell_type": "markdown",
   "metadata": {},
   "source": [
    "# The Gravity Assist Maneuver\n",
    "\n",
    "A gravity assist maneuver, or \"gravitational slingshot,\" is a technique for reducing the amount of fuel needed to propel a spacecraft to the outer reaches of the Solar System. During a slingshot, a probe's trajectory brings it close to a much larger planet. Through its gravitational interaction with the planet, the probe can gain or lose momentum and, therefore, energy.\n",
    "\n",
    "Consider a probe of negligible mass as it approaches Jupiter. For simplicity, we'll assume that Jupiter moves in a straight line in the positive x-direction along a small segment of its orbit. We'll also assume that the satellite's x-velocity is identical to Jupiter's.\n",
    "\n",
    "\n",
    "![title](images/Jupiter_frame.JPG)\n",
    "\n",
    "\n",
    "Jupiter is at rest in its own frame and sees the probe approach along the y'-axis. As the probe follows a hyperbolic orbit around Jupiter, the gravitational force from Jupiter exerts no torque on it. So if we ignore the Sun's gravity during the interaction with Jupiter, the probe's angular momentum for rotation about Jupiter is conserved. As a result, the probe's linear momentum (and therefore velocity) have the same magnitude at corresponding points in the approach and departure. The probe's direction of travel has changed, but its speed with respect to Jupiter has not.\n",
    "\n",
    "![title](images/Sun_frame.JPG)\n",
    "\n",
    "However, Jupiter is moving along the x-axis in the Sun's frame. As the probe whips around Jupiter, its velocity in the x-direction must increase significantly. This translates to an increase in the probe's total momentum, and therefore speed, in the Sun's frame. Jupiter has lost an equal amount of momentum, but because it is so massive, the change to its velocity is negligible.\n",
    "\n",
    "Because the satellite's speed with respect to the Sun increases, its total energy increases as well. By stringing several slingshot maneuvers together, a probe can eventually achieve positive total energy. This allows it to escape the Solar System.\n",
    "\n",
    "\n",
    "\n",
    "Reference: “A Gravity Assist Primer.” NASA, NASA, https://solarsystem.nasa.gov/basics/primer/. "
   ]
  },
  {
   "cell_type": "markdown",
   "metadata": {},
   "source": [
    "# Theory/Introduction \n",
    "\n",
    "Consider some subset of our Solar System containing the Sun and a number of other Planets. Each Planet has some elliptical orbit around the Sun given by the equation below ... \n",
    "\n",
    "$$r_{\\text{p}}(\\theta) = \\frac{ a_{\\text{p}}(1- \\epsilon_{\\text{p}}^{2}) }{ 1+\\epsilon_{\\text{p}}\\cos{(\\theta_{\\text{p}} + \\theta_{0, \\text{p}})} } $$\n",
    "\n",
    "Where $a_{\\text{p}}$ is the semi-major axis from the sun of some planet p, $\\epsilon_{\\text{p}}$ is the eccentricity of orbit of some planet p, and $\\theta_{0,\\text{p}}$ is the initial angular displacement from the horizontal at time = 0 for some planet p (here we take time = 0 to be the time at which we start simulating the solar system). This gives us an equation which relates the radial distance from the sun for a given planet p at some angular diplacement from the starting angle ($\\theta_{0,\\text{p}}$), namely this displacement from the starting angle at some time is $\\theta_{\\text{p}}$, for $\\theta_{0,\\text{p}} = 0 $ this gives the angular displacement from the horizontal at some time. Let us illustrate the what an orbit looks like for some planet p below. \n",
    "\n",
    "\n",
    "<center> <h1> Planetary Orbit Illustrated Below (Circular Orbit Illustrated) </h1> </center> \n",
    "\n",
    "![title](images/orbit_image.JPG)\n",
    "\n"
   ]
  },
  {
   "cell_type": "markdown",
   "metadata": {},
   "source": [
    "# Simplifying Assumptions \n",
    "\n",
    "* All Planets are in Circular orbits around the Sun (Since the eccentricities of each Planet are so small), additionally Intra-Planetary Interaction is negligeble.\n",
    "\n",
    "<center>   <h3> Planets vs. Orbital Eccentricities </h3>    </center>\n",
    "\n",
    "![title](images/orbital_eccentricities.jpg)\n",
    "\n",
    "<center> <strong> Source: </strong> <a href=\"https://encyclopedia2.thefreedictionary.com/eccentricity\" target=\"_top\">Encylopedia entry on Eccentricity</a>   </center>\n",
    "\n",
    "* The radius of each Planet's circular orbit is its average radius  of orbit.\n",
    "* All Planets start off with $\\theta_{0,\\text{p}} = 0$, i.e. the simulation starts with all Planets Collinear.\n",
    "* The mass of our Satellite is negligeble on comparison to all the Planets (Satellite doesn't influence Planetary Orbit).\n",
    "\n",
    "\n",
    "With these assumptions we get the following set of equations for each planet ... \n",
    "\n",
    "\n",
    "\n",
    "$$r_{\\text{p}}(\\theta) = R_{\\text{p}}  \\qquad\\qquad\\qquad\\qquad \\qquad (1)$$  $$T_{\\text{p}}^{2} = \\frac{4\\pi^{2}}{GM_{\\text{sun}}} R_{\\text{p}}^{3} \\qquad\\qquad\\qquad\\qquad (2)$$\n",
    "\n",
    "\n",
    "\n",
    "Using Astronomical Units and units of years for time we get $ 4\\pi^{2} = G$, and thus equation (2) gives us ... \n",
    "\n",
    "$$T_{\\text{p}} = (\\frac{R_{\\text{p}}^{3}}{M_{\\text{sun}}})^{\\frac{1}{2}}   \\qquad \\qquad \\qquad \\qquad (2)$$\n"
   ]
  },
  {
   "cell_type": "markdown",
   "metadata": {},
   "source": [
    "# \n",
    "$$"
   ]
  }
 ],
 "metadata": {
  "kernelspec": {
   "display_name": "Python 3",
   "language": "python",
   "name": "python3"
  },
  "language_info": {
   "codemirror_mode": {
    "name": "ipython",
    "version": 3
   },
   "file_extension": ".py",
   "mimetype": "text/x-python",
   "name": "python",
   "nbconvert_exporter": "python",
   "pygments_lexer": "ipython3",
   "version": "3.8.8"
  }
 },
 "nbformat": 4,
 "nbformat_minor": 2
}
