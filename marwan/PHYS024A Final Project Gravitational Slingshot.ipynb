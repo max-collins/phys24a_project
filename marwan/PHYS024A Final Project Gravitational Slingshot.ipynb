{
 "cells": [
  {
   "cell_type": "markdown",
   "metadata": {},
   "source": [
    "# Theory/Introduction \n",
    "\n",
    "Consider some subset of our Solar System containing the Sun and a number of other Planets. Each Planet has some elliptical orbit around the Sun given by the equation below ... \n",
    "\n",
    "$$r_{\\text{p}}(\\theta) = \\frac{ a_{\\text{p}}(1- \\epsilon_{\\text{p}}^{2}) }{ 1+\\epsilon_{\\text{p}}\\cos{(\\theta_{\\text{p}} + \\theta_{0, \\text{p}})} } $$\n",
    "\n",
    "Where $a_{\\text{p}}$ is the semi-major axis from the sun of some planet p, $\\epsilon_{\\text{p}}$ is the eccentricity of orbit of some planet p, and $\\theta_{0,p}$ is the initial angular displacement from the horizontal at time = 0 for some planet p (here we take time = 0) to be the time at which we start simulating the solar system. This gives us an equation which relates the radial distance from the sun for a given planet p at some angular diplacement from the starting angle ($\\theta_{0,p}$), namely this displacement from the starting angle at some time is $\\theta_{p}$, for $\\theta_{0,p} = 0 $ this gives the angular displacement from the horizontal at some time. let us illustrate the what an orbit looks like for some planet p below.\n",
    "\n",
    "\n",
    "# INCLUDE ILLUSTRATION BELOW.... \n",
    "\n",
    "\n",
    "\n",
    "\n"
   ]
  },
  {
   "cell_type": "markdown",
   "metadata": {},
   "source": [
    "# Simplifying Assumptions \n",
    "\n",
    "* All Planets are in Circular orbits around the Sun, additionalyl Intra-Planetary Interaction is negligeble.\n",
    "* All Planets start off with $\\theta_{0,\\text{p}} = 0$, i.e. the simulation starts with all Planets Collinear.\n",
    "* The mass of our Satellite is negligeble on comparison to all the Planets."
   ]
  },
  {
   "cell_type": "code",
   "execution_count": null,
   "metadata": {},
   "outputs": [],
   "source": []
  }
 ],
 "metadata": {
  "kernelspec": {
   "display_name": "Python 3",
   "language": "python",
   "name": "python3"
  },
  "language_info": {
   "codemirror_mode": {
    "name": "ipython",
    "version": 3
   },
   "file_extension": ".py",
   "mimetype": "text/x-python",
   "name": "python",
   "nbconvert_exporter": "python",
   "pygments_lexer": "ipython3",
   "version": "3.7.3"
  }
 },
 "nbformat": 4,
 "nbformat_minor": 2
}
