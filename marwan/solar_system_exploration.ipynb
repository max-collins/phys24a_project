{
 "cells": [
  {
   "cell_type": "code",
   "execution_count": 1,
   "metadata": {},
   "outputs": [],
   "source": [
    "##First let's make the necessary imports\n",
    "%matplotlib notebook\n",
    "%load_ext autoreload\n",
    "%autoreload 2 \n",
    "import numpy as np \n",
    "import matplotlib.pyplot as plt \n",
    "from matplotlib.patches import Rectangle, Circle\n",
    "from p24asolver import P24ASolver\n"
   ]
  },
  {
   "cell_type": "code",
   "execution_count": 4,
   "metadata": {},
   "outputs": [],
   "source": [
    "#now let's create a class for each of the plannets \n",
    "class plannet():\n",
    "    '''\n",
    "    This class is used to store the valuable information regarding a plannet,\n",
    "    particularly it's mass, radius, radius of orbit around the sun, and period\n",
    "    around the sun.\n",
    "    \n",
    "    Assume circular orbits and no initial angular displacement from the horizontal\n",
    "    \n",
    "    For the units we will use astronomical units (thus radius between earth and sun)\n",
    "    is 1AU, and we measure the period in years.\n",
    "    \n",
    "    We may use that T^2 = 4pi^2/GM  r^3 (Kepler's) third law in our derivation\n",
    "    '''\n",
    "    \n",
    "    def __init__(self, mass, radius, radius_of_orbit, period):\n",
    "        '''\n",
    "        inputs:\n",
    "            mass\n",
    "            radius\n",
    "            radius_of_orbit\n",
    "            period \n",
    "        outputs:\n",
    "            a class which holds all the information regarding an orbiting plannet\n",
    "        '''\n",
    "        \n",
    "        self.mass = mass\n",
    "        self.radius = radius\n",
    "        self.radius_of_orbit = radius_of_orbit\n",
    "        self.period = period\n",
    "        #initialize the position of all plannets to be collinear with horizontal\n",
    "        self.pos = (self.radius_of_orbit*1,self.radius_of_orbit*0)\n",
    "\n",
    "    def update_position(self):\n",
    "        '''\n",
    "        \n",
    "        '''\n",
    "\n",
    "\n",
    "##Now let's make our solution class\n",
    "class solar_system_slingshot(P24ASolver):\n",
    "    '''\n",
    "    Class used to simulate the solar-system, satellite system alongside how to update\n",
    "    it, animate it, etc.\n",
    "    '''\n",
    "    \n",
    "    def __init__(self, **kwargs):\n",
    "        '''\n",
    "        This initializes/constructs the class using a list of keyword arguments, we will\n",
    "        simplify this by making the assumption that the solar system has all circular orbits..\n",
    "        '''\n",
    "        \n",
    "        #check to see that we pass the \"circular\" argument\n",
    "        if kwargs.get('Circular', True):\n",
    "            #now we create the system >:<\n",
    "            pass\n",
    "            \n",
    "            "
   ]
  },
  {
   "cell_type": "code",
   "execution_count": null,
   "metadata": {},
   "outputs": [],
   "source": []
  },
  {
   "cell_type": "code",
   "execution_count": null,
   "metadata": {},
   "outputs": [],
   "source": []
  }
 ],
 "metadata": {
  "kernelspec": {
   "display_name": "Python 3",
   "language": "python",
   "name": "python3"
  },
  "language_info": {
   "codemirror_mode": {
    "name": "ipython",
    "version": 3
   },
   "file_extension": ".py",
   "mimetype": "text/x-python",
   "name": "python",
   "nbconvert_exporter": "python",
   "pygments_lexer": "ipython3",
   "version": "3.7.3"
  }
 },
 "nbformat": 4,
 "nbformat_minor": 2
}
