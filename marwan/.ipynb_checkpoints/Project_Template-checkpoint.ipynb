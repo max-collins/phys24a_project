{
 "cells": [
  {
   "cell_type": "markdown",
   "metadata": {},
   "source": [
    "# Project Template\n",
    "\n",
    "You can use this notebook as a template for your project. Besides having all the requisite sections, it has some code snippets that should help you accomplish some of the tasks that your project may require.\n",
    "\n",
    "The goals of this exercise are\n",
    "- to give you an opportunity to explore an interesting mechanical system and exercise your creativity\n",
    "- to develop your skills using Python, MatPlotLib, numpy, and scipy to simulate the motion of a mechanical system\n",
    "- to use your simulations to investigate the behavior of the system you have chosen\n",
    "- to share your results with the class\n",
    "\n",
    "Projects will be done in teams of three. We can use Sakai or Discord as a clearinghouse for folks to find project partners.\n",
    "\n",
    "## Possible systems to investigate\n",
    "\n",
    "Many of the following involve pendulums of some sort. You should think of the masses as being attached to the end of very light, rigid rods, which therefore allow them to assume an inverted configuration.\n",
    "\n",
    "1. A double pendulum, which is a simple pendulum suspended from a simple pendulum. [Here's an example of a single one](https://sakai.claremont.edu/access/content/group/CX_mtg_HMCPhysics24ASP21/Lab/oneDP.mp4) and [Here are five identical ones started at slightly different positions](https://sakai.claremont.edu/access/content/group/CX_mtg_HMCPhysics24ASP21/Lab/fiveDP.mp4).\n",
    "2. A single pendulum whose top is vibrated horizontally by $X = A \\sin(\\omega t)$, where $A$ and $\\omega$ are parameters you can vary.\n",
    "3. A single pendulum whose top is vibrated vertically by $X = A \\sin(\\omega t)$, where $A$ and $\\omega$ are parameters you can vary. For certain values of the parameters, you can stabilize the pendulum in the upside down orientation!\n",
    "4. The Magnetron toy (https://sakai.claremont.edu/access/content/group/CX_mtg_HMCPhysics24ASP21/Lab/Magnetron.mp4) — I'll be happy to help with the magnetism part here.\n",
    "5. [A “gas” of hard disks in a finite box](https://saeta.physics.hmc.edu/MD/) interacting only by bouncing off each other elastically.\n",
    "6. A “gas” of particles interacting via a potential, such as the 6-12 or Lennard-Jones potential. \n",
    "7. A bunch of metronomes resting on a platform that can move. See https://www.youtube.com/watch?v=5v5eBf2KwF8&t=181s or https://www.youtube.com/watch?v=Ov3aeqjeih0 or just search for *synchronized metronomes* on YouTube.\n",
    "8. Because it rotates, our Sun is not spherical but oblate. Therefore, the gravitational force it exerts on a planet should be described by $$ F = - \\frac{G M m}{r^2} - G Q \\frac{m}{r^4} $$ where the quadrupole moment $Q$ is a constant proportional to the oblateness. Investigate how the quadrupole moment affects planetary orbits.\n",
    "9. A planet in the vicinity of a binary star system. [There are notes on Sakai](https://sakai.claremont.edu/access/content/group/CX_mtg_145663/Lab/BinaryStar.pdf).\n",
    "10. Two moons of Saturn, Janus and Epimetheus, have almost identical orbits, which makes them seem to almost bounce off each other every four years or so. See [the NASA page](https://solarsystem.nasa.gov/moons/saturn-moons/epimetheus/in-depth/) for a description of this remarkable system.\n",
    "11. A chaotic water wheel.\n",
    "12. A dripping faucet.\n",
    "13. Orbits in the vicinity of Lagrange points.\n",
    "14. A system of your own devising (after you run it by me)."
   ]
  },
  {
   "cell_type": "code",
   "execution_count": 2,
   "metadata": {
    "ExecuteTime": {
     "end_time": "2022-03-03T21:32:06.375667Z",
     "start_time": "2022-03-03T21:32:05.444695Z"
    },
    "execution": {
     "iopub.execute_input": "2022-03-03T19:14:58.159522Z",
     "iopub.status.busy": "2022-03-03T19:14:58.158879Z",
     "iopub.status.idle": "2022-03-03T19:14:59.249524Z",
     "shell.execute_reply": "2022-03-03T19:14:59.249241Z",
     "shell.execute_reply.started": "2022-03-03T19:14:58.159313Z"
    },
    "tags": []
   },
   "outputs": [
    {
     "name": "stdout",
     "output_type": "stream",
     "text": [
      "The autoreload extension is already loaded. To reload it, use:\n",
      "  %reload_ext autoreload\n"
     ]
    }
   ],
   "source": [
    "%matplotlib notebook\n",
    "%load_ext autoreload\n",
    "%autoreload 2\n",
    "import numpy as np\n",
    "import matplotlib.pyplot as plt\n",
    "from matplotlib.patches import Rectangle, Circle\n",
    "from p24asolver import P24ASolver"
   ]
  },
  {
   "attachments": {
    "image.png": {
     "image/png": "[encoded data removed]"
    }
   },
   "cell_type": "markdown",
   "metadata": {},
   "source": [
    "## Example investigation\n",
    "\n",
    "To illustrate how to use the `P24ASolver` class, I will explore an extension to the driven damped harmonic oscillator demonstration that we looked at in class. In this case, I'll add a second cart whose mass can be adjusted. For simplicity, all the springs will be the same, and I assume that the right end of the rightmost spring is driven with amplitude $D$ and angular frequency $\\omega$. Each mass has its own linear damper, too.\n",
    "![image.png](attachment:image.png)"
   ]
  },
  {
   "cell_type": "markdown",
   "metadata": {},
   "source": [
    "Let's first find the equations of motion. Isolating the left mass, we get $$ m \\ddot{x}_1 = -k x_1 + k(x_2 - x_1) - b_1 \\dot{x}_1 = k(x_2 - 2 x_1) - b_1 \\dot{x}_1 $$ and $$ \\mu m \\ddot{x}_2 = k(D\\sin\\omega t - x_2) + k(x_1 - x_2) - b_2 \\dot{x}_2$$\n",
    "Let's divide through by $m$, define $\\omega_0^2 = k/m$, and $\\zeta_n = \\frac{b_n}{2 m \\omega_0}$.\n",
    "Then the equations become\n",
    "\\begin{align}\n",
    "  \\ddot{x}_1 &= -2 \\omega_0 \\zeta_1 \\dot{x}_1 + \\omega_0^2(x_2 - 2 x_1) \\\\\n",
    "  \\ddot{x}_2 &= - \\frac{2 \\omega_0 \\zeta_2 }{\\mu} \\dot{x}_2 + \\frac{\\omega_0^2}{\\mu} (D \\sin\\omega t + x_1 - 2 x_2)\n",
    "\\end{align}"
   ]
  },
  {
   "cell_type": "markdown",
   "metadata": {},
   "source": [
    "With no loss of generality, we can simply choose $\\omega_0 = 2\\pi$ and then investigate behavior for different drive amplitude $D$, mass ratio $\\mu$, and damping parameters $\\zeta_1$ and $\\zeta_2$.\n",
    "\n",
    "To simulate this system we will need four coordinates: $x_1$, $v_1$, $x_2$, and $v_2$. So, our first job is to subclass `P24ASolver` and supply an `__init__` method that will accept the values of the parameters and store them conveniently, and provide names and LaTeX representations for use in figures. Then we add a `derivatives` method that takes in the time and current coordinates and returns the derivatives.\n",
    "\n",
    "As a bonus, I’m also going to implement the routines to make animations."
   ]
  },
  {
   "cell_type": "code",
   "execution_count": null,
   "metadata": {
    "ExecuteTime": {
     "end_time": "2022-03-03T21:33:38.961659Z",
     "start_time": "2022-03-03T21:33:38.941167Z"
    },
    "execution": {
     "iopub.execute_input": "2022-03-03T19:15:27.541910Z",
     "iopub.status.busy": "2022-03-03T19:15:27.541607Z",
     "iopub.status.idle": "2022-03-03T19:15:27.574922Z",
     "shell.execute_reply": "2022-03-03T19:15:27.574549Z",
     "shell.execute_reply.started": "2022-03-03T19:15:27.541887Z"
    },
    "tags": []
   },
   "outputs": [],
   "source": [
    "class Carts(P24ASolver):\n",
    "    \"\"\"\n",
    "    Simulate a system of two masses with dampers driven by a sinusoidal input\n",
    "    \"\"\"\n",
    "\n",
    "    def __init__(self, **kwargs):\n",
    "        \"\"\"\n",
    "        I'm going to use Python's keyword argument mechanism to handle the parameters.\n",
    "\n",
    "        The kwargs parameter is a dictionary of all the named parameters and their values. We can use\n",
    "        the built-in 'get' method to store parameter values, which allows us to provide default values\n",
    "        in cases where no value was given.\n",
    "\n",
    "        Note that we need to call the __init__ method of P24ASolver with a list of\n",
    "        variable names. The first string in each variable tuple is the variable name, which you can use to\n",
    "        refer to the variable, the second is a LaTeX representation that will look nice on a plot.\n",
    "        \"\"\"\n",
    "        super().__init__(\n",
    "            (('x1', '$x_1$'), ('v1', r'$\\dot{x}_1$'),\n",
    "             ('x2', '$x_2$'), ('v2', r'$\\dot{x}_2$'))\n",
    "        )\n",
    "        # Now store variables, using defaults, if necessary\n",
    "        self.ω0 = 2 * np.pi\n",
    "        self.μ = kwargs.get('mu', 1.0)\n",
    "        self.D = kwargs.get('D', 1.0)\n",
    "        self.Ω = kwargs.get('Omega', 1.0)\n",
    "        self.ζ1 = kwargs.get('zeta1', 0.1)\n",
    "        self.ζ2 = kwargs.get('zeta2', 0.0)\n",
    "        self.ω = self.ω0 * self.Ω\n",
    "        self.rtol = kwargs.get('rtol', 1e-10)\n",
    "        self.atol = kwargs.get('atol', 1e-10)\n",
    "\n",
    "    def __str__(self):\n",
    "        \"Produce a string representation of the parameters\"\n",
    "        fmt = r\"$\\mu = {0:.2g}, D = {1:.2g}, \\zeta_1 = {2:.2g}, \\zeta_2 = {3:.2g}$\"\n",
    "        return fmt.format(self.μ, self.D, self.ζ1, self.ζ2)\n",
    "\n",
    "    def derivatives(self, t, Y):\n",
    "        x1, v1, x2, v2 = Y  # unpack the values\n",
    "        ω0 = self.ω0\n",
    "        a1 = -2 * ω0 * self.ζ1 * v1 + ω0 * ω0 * (x2 - 2 * x1)\n",
    "        a2 = (-2 * ω0 * self.ζ2 * v2 + ω0 * ω0 \\\n",
    "              * (self.D * np.sin(t * self.ω) + x1 - 2 * x2)) / self.μ\n",
    "        return [v1, a1, v2, a2]\n",
    "\n",
    "    def spring(self, left, right):\n",
    "        \"Calculate points for a spring going from left to right\"\n",
    "        angles = np.linspace(0, 13 * np.pi, 200)\n",
    "        xradius, yradius = 0.2, 0.1\n",
    "        stub = 0.2\n",
    "        x = np.linspace(right - xradius - stub, left +\n",
    "                        xradius + stub, len(angles))\n",
    "        x += xradius * np.cos(angles)\n",
    "        y = yradius * np.sin(angles) + 0.25\n",
    "        # Now add the stubs\n",
    "\n",
    "        return [\n",
    "            np.concatenate(\n",
    "                (np.array([right]), x, np.array([left]))),\n",
    "            np.concatenate(\n",
    "                (np.array([0.25]), y, np.array([0.25])))]\n",
    "\n",
    "    def prepare_figure(self):\n",
    "        \"\"\"\n",
    "        Function that creates the figure and axes for the animation.\n",
    "        \"\"\"\n",
    "\n",
    "        fig, ax = plt.subplots(figsize=(12, 2.5))\n",
    "        # We need to set the axes limits so each frame uses the same limits\n",
    "        # I'll say that the center position of the first mass is at 2 and the second at 4\n",
    "        ax.set_xlim((0, 14))\n",
    "        ax.set_ylim((-0.2, 0.7))\n",
    "\n",
    "        self.lines = [ax.plot([], [], 'k-')[0] for n in range(3)]\n",
    "        self.carts = [Rectangle((x, 0), 1, 0.5, color='r')\n",
    "                      for x in (1.5, 4.5)]\n",
    "        self.carts.append(Circle((12, 0.25), radius=0.1, color='g'))\n",
    "        for c in self.carts:\n",
    "            ax.add_patch(c)\n",
    "        return fig, ax\n",
    "\n",
    "    def draw_frame(self, t):\n",
    "        \"\"\"\n",
    "        Draw frame for time t\n",
    "        \"\"\"\n",
    "\n",
    "        x1, v1, x2, v2 = self.solution.sol(t)\n",
    "        x1 += 2.5\n",
    "        x2 += 7.5\n",
    "        x3 = 12 + self.D * np.sin(t * self.ω)\n",
    "\n",
    "        # With lines things are easy: just replace the data\n",
    "        self.lines[0].set_data(*self.spring(0, x1))\n",
    "        self.lines[1].set_data(*self.spring(x1 + 1, x2))\n",
    "        self.lines[2].set_data(*self.spring(x2 + 1, x3))\n",
    "\n",
    "        # For patches, we first remove them\n",
    "        # and then recreate them.\n",
    "        self.carts[2].remove()\n",
    "        self.carts[1].remove()\n",
    "        self.carts[0].remove()\n",
    "        self.carts = []\n",
    "\n",
    "        for x in (x1, x2):\n",
    "            p = Rectangle((x, 0), 1, 0.5, color='r')\n",
    "            self._ax.add_patch(p)\n",
    "            self.carts.append(p)\n",
    "        c = Circle((x3, 0.25), radius=0.1, color='g')\n",
    "        self.carts.append(c)\n",
    "        self._ax.add_patch(c)\n",
    "        title = self._ax.set_title(f\"t = {t:.2f}\", usetex=False)\n",
    "\n",
    "        # By returning the list of Artists that have changed,\n",
    "        # we speed up the animation\n",
    "        return self.carts, self.lines, title"
   ]
  },
  {
   "cell_type": "code",
   "execution_count": null,
   "metadata": {
    "ExecuteTime": {
     "end_time": "2022-03-03T21:33:44.687606Z",
     "start_time": "2022-03-03T21:33:44.485691Z"
    }
   },
   "outputs": [],
   "source": [
    "rest = (0,0,0,0)\n",
    "times = np.linspace(0, 20, 401)\n",
    "sol1 = Carts(mu=1, Omega=1, D=0.2).solve(rest, (0,20)).plot(times, ['x1', 'x2']);"
   ]
  },
  {
   "cell_type": "code",
   "execution_count": null,
   "metadata": {
    "ExecuteTime": {
     "end_time": "2022-03-03T21:33:51.691562Z",
     "start_time": "2022-03-03T21:33:51.669526Z"
    }
   },
   "outputs": [],
   "source": [
    "sol1.animate(200);"
   ]
  },
  {
   "cell_type": "code",
   "execution_count": null,
   "metadata": {
    "ExecuteTime": {
     "end_time": "2022-03-03T21:34:19.129691Z",
     "start_time": "2022-03-03T21:34:18.888449Z"
    }
   },
   "outputs": [],
   "source": [
    "sol2 = Carts(mu=1, Omega=1.4, D=0.2).solve(rest, (0,20)).plot(times, ['x1', 'x2']);"
   ]
  },
  {
   "cell_type": "markdown",
   "metadata": {},
   "source": [
    "That's interesting. When $\\Omega = 1$, the two masses appear to be moving with about the same phase, but when $\\Omega = 1.4$, mass 1 lags behind mass 2 by almost 90°. "
   ]
  },
  {
   "cell_type": "code",
   "execution_count": null,
   "metadata": {
    "ExecuteTime": {
     "end_time": "2022-03-03T19:46:07.892105Z",
     "start_time": "2022-03-03T19:46:07.553261Z"
    },
    "tags": []
   },
   "outputs": [],
   "source": [
    "sol3 = Carts(mu=1, Omega=2).solve(rest, (0,20)).plot(times, ['x1', 'x2'], figsize=(8,5));"
   ]
  },
  {
   "cell_type": "markdown",
   "metadata": {},
   "source": [
    "Another interesting development: at $\\Omega = 2$ the amplitude of motion of mass 1 is now smaller than the amplitude for mass 2. We should prepare a plot of the amplitude and phase of each cart's motion with respect to the drive as a function of frequency. We could do that simulating for a while and then looking at the oscillations at the end of the run."
   ]
  },
  {
   "cell_type": "code",
   "execution_count": null,
   "metadata": {
    "ExecuteTime": {
     "end_time": "2022-03-03T19:52:03.299362Z",
     "start_time": "2022-03-03T19:52:03.272808Z"
    },
    "tags": []
   },
   "outputs": [],
   "source": [
    "def find_amplitude_and_phase(**kwargs):\n",
    "    t_max = 49.750\n",
    "    sol = Carts(**kwargs)\n",
    "    sol.solve((0,0,0,0), (0, t_max))\n",
    "    # Now we need to extract the amplitude and phase for x1 and x2\n",
    "    # We can do that by restarting the solution using the end point as the initial condition\n",
    "    Y0 = sol(t_max)\n",
    "    period = 2 * np.pi / sol.ω\n",
    "    t_range = (t_max, t_max + 1.5 * period)\n",
    "    sol2 = Carts(**kwargs)\n",
    "    sol2.events = [lambda t, Y, args: Y[0], lambda t, Y, args: Y[2]]\n",
    "    sol2.solve(Y0, t_range)\n",
    "    t0 = period * np.floor(t_max / period)\n",
    "    try:\n",
    "        t1 = sol2.solution.t_events[0][0]\n",
    "    except:\n",
    "        print(sol2.solution)\n",
    "    def adjust_phase(ϕ):\n",
    "        two_pi = 2 * np.pi\n",
    "        while ϕ > 0: ϕ -= two_pi\n",
    "        while ϕ < -two_pi: ϕ += two_pi\n",
    "        return ϕ\n",
    "            \n",
    "    ϕ1 = (t0 - t1) * sol2.ω + (0 if sol2.solution.y_events[0][0,1] > 0 else np.pi)\n",
    "    A1 = np.abs(sol2(t1 + 0.25 * period)[0])\n",
    "    t2 = sol2.solution.t_events[1][0]\n",
    "    ϕ2 = (t0 - t2) * sol2.ω + (0 if sol2.solution.y_events[1][0,3] > 0 else np.pi)\n",
    "    A2 = np.abs(sol2(t2 + 0.25 * period)[2])\n",
    "    return (A1, adjust_phase(ϕ1), A2, adjust_phase(ϕ2))"
   ]
  },
  {
   "cell_type": "code",
   "execution_count": null,
   "metadata": {
    "ExecuteTime": {
     "end_time": "2022-03-03T19:52:04.748975Z",
     "start_time": "2022-03-03T19:52:04.090740Z"
    },
    "tags": []
   },
   "outputs": [],
   "source": [
    "find_amplitude_and_phase(Omega=1.4)"
   ]
  },
  {
   "cell_type": "code",
   "execution_count": null,
   "metadata": {
    "ExecuteTime": {
     "end_time": "2022-03-03T20:20:00.993345Z",
     "start_time": "2022-03-03T20:19:02.962854Z"
    },
    "tags": []
   },
   "outputs": [],
   "source": [
    "Omegas = 10**np.linspace(-1,1,101)\n",
    "results = np.array([find_amplitude_and_phase(Omega=x) for x in Omegas])"
   ]
  },
  {
   "cell_type": "code",
   "execution_count": null,
   "metadata": {
    "ExecuteTime": {
     "end_time": "2022-03-03T20:20:31.749972Z",
     "start_time": "2022-03-03T20:20:31.716865Z"
    },
    "tags": []
   },
   "outputs": [],
   "source": [
    "fig, axes = plt.subplots(1, 2, figsize=(12,4))\n",
    "amps, phases = axes\n",
    "amps.loglog(Omegas, results[:,0], label=r'$|A_1|$')\n",
    "amps.loglog(Omegas, results[:,2], label=r'$|A_2|$')\n",
    "amps.set_xlabel(r\"$\\omega/\\omega_0$\")\n",
    "amps.legend()\n",
    "amps.grid()\n",
    "phases.semilogx(Omegas, np.degrees(results[:,1]), label=r'$\\phi_1$')\n",
    "phases.semilogx(Omegas, np.degrees(results[:,3]), label=r'$\\phi_2$')\n",
    "phases.legend()\n",
    "phases.set_yticks(np.linspace(-360, 0, 5))\n",
    "phases.grid()\n",
    "phases.set_xlabel(r\"$\\omega/\\omega_0$\");"
   ]
  },
  {
   "cell_type": "markdown",
   "metadata": {
    "ExecuteTime": {
     "end_time": "2020-04-02T02:58:35.068614Z",
     "start_time": "2020-04-02T02:58:34.999612Z"
    }
   },
   "source": [
    "Very interesting! We see two resonance peaks in the motion of the two carts: one at $\\Omega = \\omega/\\omega_0 = 1$ and one at $\\Omega \\approx 1.7$. Let's zoom in a make a close-up plot of this interesting region."
   ]
  },
  {
   "cell_type": "code",
   "execution_count": null,
   "metadata": {
    "ExecuteTime": {
     "end_time": "2022-03-03T20:21:58.570891Z",
     "start_time": "2022-03-03T20:20:53.996475Z"
    },
    "tags": []
   },
   "outputs": [],
   "source": [
    "Omegas2 = np.linspace(0.8,2,101)\n",
    "results = np.array([find_amplitude_and_phase(Omega=x) for x in Omegas2])\n",
    "fig, axes = plt.subplots(2, 1, figsize=(8,8), sharex=True)\n",
    "amps, phases = axes\n",
    "amps.semilogy(Omegas2, results[:,0], label=r'$|A_1|$')\n",
    "amps.semilogy(Omegas2, results[:,2], label=r'$|A_2|$')\n",
    "amps.legend()\n",
    "phases.plot(Omegas2, np.degrees(results[:,1]), label=r'$\\phi_1$')\n",
    "phases.plot(Omegas2, np.degrees(results[:,3]), label=r'$\\phi_2$')\n",
    "phases.legend()\n",
    "phases.set_yticks(np.linspace(-360,0,5))\n",
    "phases.grid()\n",
    "phases.set_xlabel(r\"$\\omega/\\omega_0$\");"
   ]
  },
  {
   "cell_type": "markdown",
   "metadata": {
    "ExecuteTime": {
     "end_time": "2020-04-02T03:17:20.914107Z",
     "start_time": "2020-04-02T03:17:20.890152Z"
    }
   },
   "source": [
    "Can you explain this behavior?\n",
    "\n",
    "Other things to explore:\n",
    "- Can you calculate an analytic solution and compare it with the numerical results?\n",
    "- Does it matter which cart has the damper?\n",
    "- What does the phase plot tell us?\n",
    "- How does the mass ratio influence the plots?\n",
    "- ..."
   ]
  },
  {
   "cell_type": "markdown",
   "metadata": {},
   "source": [
    "# Animation\n",
    "\n",
    "Let’s see if we can't animate the motion of the carts. We will need to figure out how to show the two carts and drive. If we’re hard core, we may also figure out how to draw the springs. Rather than replacing the old class, I'll just define a new one here. Not sure why!"
   ]
  },
  {
   "cell_type": "code",
   "execution_count": null,
   "metadata": {
    "ExecuteTime": {
     "end_time": "2022-03-03T19:54:35.492046Z",
     "start_time": "2022-03-03T19:54:35.221497Z"
    },
    "execution": {
     "iopub.execute_input": "2022-03-03T19:15:29.589529Z",
     "iopub.status.busy": "2022-03-03T19:15:29.588895Z",
     "iopub.status.idle": "2022-03-03T19:15:29.899573Z",
     "shell.execute_reply": "2022-03-03T19:15:29.899304Z",
     "shell.execute_reply.started": "2022-03-03T19:15:29.589274Z"
    },
    "tags": []
   },
   "outputs": [],
   "source": [
    "csol = Carts(mu=1, Omega=2)\n",
    "csol.solve((0,0,0,0), (0, 10))\n",
    "tvals = np.linspace(0, 10, 400)\n",
    "csol.plot(tvals, ['x1', 'x2']);"
   ]
  },
  {
   "cell_type": "code",
   "execution_count": null,
   "metadata": {
    "ExecuteTime": {
     "end_time": "2022-03-03T19:54:41.747556Z",
     "start_time": "2022-03-03T19:54:41.713560Z"
    },
    "execution": {
     "iopub.execute_input": "2022-03-03T19:15:34.796544Z",
     "iopub.status.busy": "2022-03-03T19:15:34.796095Z",
     "iopub.status.idle": "2022-03-03T19:15:34.919184Z",
     "shell.execute_reply": "2022-03-03T19:15:34.918047Z",
     "shell.execute_reply.started": "2022-03-03T19:15:34.796517Z"
    },
    "tags": []
   },
   "outputs": [],
   "source": [
    "csol.animate(300, time_range=(0,10));"
   ]
  },
  {
   "cell_type": "code",
   "execution_count": null,
   "metadata": {
    "ExecuteTime": {
     "end_time": "2022-03-03T19:55:05.310818Z",
     "start_time": "2022-03-03T19:55:05.150264Z"
    },
    "tags": []
   },
   "outputs": [],
   "source": [
    "csol2 = Carts(mu=1, Omega=1.41).solve((0,0,0,0),(0, 10)).plot(np.linspace(0, 10, 400), ['x1', 'x2']);"
   ]
  },
  {
   "cell_type": "code",
   "execution_count": null,
   "metadata": {
    "ExecuteTime": {
     "end_time": "2022-03-03T19:55:14.475709Z",
     "start_time": "2022-03-03T19:55:14.453825Z"
    },
    "tags": []
   },
   "outputs": [],
   "source": [
    "plt.close('all')\n",
    "csol2.animate(300, time_range=(0, 10));"
   ]
  },
  {
   "cell_type": "code",
   "execution_count": null,
   "metadata": {
    "tags": []
   },
   "outputs": [],
   "source": []
  }
 ],
 "metadata": {
  "kernelspec": {
   "display_name": "Python 3",
   "language": "python",
   "name": "python3"
  },
  "language_info": {
   "codemirror_mode": {
    "name": "ipython",
    "version": 3
   },
   "file_extension": ".py",
   "mimetype": "text/x-python",
   "name": "python",
   "nbconvert_exporter": "python",
   "pygments_lexer": "ipython3",
   "version": "3.7.3"
  },
  "toc": {
   "base_numbering": 1,
   "nav_menu": {},
   "number_sections": true,
   "sideBar": true,
   "skip_h1_title": false,
   "title_cell": "Table of Contents",
   "title_sidebar": "Contents",
   "toc_cell": false,
   "toc_position": {},
   "toc_section_display": true,
   "toc_window_display": false
  }
 },
 "nbformat": 4,
 "nbformat_minor": 4
}
