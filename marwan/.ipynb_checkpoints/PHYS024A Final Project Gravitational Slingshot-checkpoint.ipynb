{
 "cells": [
  {
   "cell_type": "code",
   "execution_count": 3,
   "metadata": {},
   "outputs": [],
   "source": [
    "#Now let's import some functionality to help visualizing images, etc...\n",
    "\n",
    "from IPython.display import Image\n",
    "from IPython.core.display import HTML"
   ]
  },
  {
   "cell_type": "markdown",
   "metadata": {},
   "source": [
    "# Theory/Introduction \n",
    "\n",
    "Consider some subset of our Solar System containing the Sun and a number of other Planets. Each Planet has some elliptical orbit around the Sun given by the equation below ... \n",
    "\n",
    "$$r_{\\text{p}}(\\theta) = \\frac{ a_{\\text{p}}(1- \\epsilon_{\\text{p}}^{2}) }{ 1+\\epsilon_{\\text{p}}\\cos{(\\theta_{\\text{p}} + \\theta_{0, \\text{p}})} } $$\n",
    "\n",
    "Where $a_{\\text{p}}$ is the semi-major axis from the sun of some planet p, $\\epsilon_{\\text{p}}$ is the eccentricity of orbit of some planet p, and $\\theta_{0,\\text{p}}$ is the initial angular displacement from the horizontal at time = 0 for some planet p (here we take time = 0) to be the time at which we start simulating the solar system. This gives us an equation which relates the radial distance from the sun for a given planet p at some angular diplacement from the starting angle ($\\theta_{0,\\text{p}}$), namely this displacement from the starting angle at some time is $\\theta_{\\text{p}}$, for $\\theta_{0,\\text{p}} = 0 $ this gives the angular displacement from the horizontal at some time. let us illustrate the what an orbit looks like for some planet p below. \n",
    "\n",
    "\n",
    "<center> <h1> Planetary Orbit Illustrated Below (Circular Orbit Illustrated) </h1> </center> \n",
    "\n",
    "![title](../images/orbit_image.JPG)\n",
    "\n"
   ]
  },
  {
   "cell_type": "markdown",
   "metadata": {},
   "source": [
    "# Simplifying Assumptions \n",
    "\n",
    "* All Planets are in Circular orbits around the Sun (Since the eccentricities of each Planet are so small), additionally Intra-Planetary Interaction is negligeble.\n",
    "\n",
    "<center>   <h3> Planets vs. Orbital Eccentricities </h3>    </center>\n",
    "\n",
    "![title](../images/orbital_eccentricities.jpg)\n",
    "\n",
    "<center> <strong> Source: </strong> <a href=\"https://encyclopedia2.thefreedictionary.com/eccentricity\" target=\"_top\">Encylopedia entry on Eccentricity</a>   </center>\n",
    "\n",
    "* The radius of each Planet's circular orbit is it's average radius  of orbit.\n",
    "* All Planets start off with $\\theta_{0,\\text{p}} = 0$, i.e. the simulation starts with all Planets Collinear.\n",
    "* The mass of our Satellite is negligeble on comparison to all the Planets (Satellite doesn't influence Planetary Orbit).\n",
    "\n",
    "\n",
    "With these assumptions we get the following set of equations for each planet ... \n",
    "\n",
    "\n",
    "\n",
    "$$r_{\\text{p}}(\\theta) = R_{\\text{p}}  \\qquad\\qquad\\qquad\\qquad \\qquad (1)$$  $$T_{\\text{p}}^{2} = \\frac{4\\pi^{2}}{GM_{\\text{sun}}} R_{\\text{p}}^{3} \\qquad\\qquad\\qquad\\qquad (2)$$\n",
    "\n",
    "\n",
    "\n",
    "Using Astronomical Units and units of years for time we get $ 4\\pi^{2} = G$, and thus equation (2) gives us ... \n",
    "\n",
    "$$T_{\\text{p}} = (\\frac{R_{\\text{p}}^{3}}{M_{\\text{sun}}})^{\\frac{1}{2}}   \\qquad \\qquad \\qquad \\qquad (2)$$\n"
   ]
  },
  {
   "cell_type": "code",
   "execution_count": null,
   "metadata": {},
   "outputs": [],
   "source": []
  }
 ],
 "metadata": {
  "kernelspec": {
   "display_name": "Python 3",
   "language": "python",
   "name": "python3"
  },
  "language_info": {
   "codemirror_mode": {
    "name": "ipython",
    "version": 3
   },
   "file_extension": ".py",
   "mimetype": "text/x-python",
   "name": "python",
   "nbconvert_exporter": "python",
   "pygments_lexer": "ipython3",
   "version": "3.7.3"
  }
 },
 "nbformat": 4,
 "nbformat_minor": 2
}
